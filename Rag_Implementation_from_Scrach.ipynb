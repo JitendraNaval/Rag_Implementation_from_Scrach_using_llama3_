{
 "cells": [
  {
   "cell_type": "code",
   "execution_count": 1,
   "id": "f59cb0ba-bf0c-473d-88b4-b716a786e431",
   "metadata": {},
   "outputs": [],
   "source": [
    "corpus_of_documents = [\n",
    "    \"Take a leisurely walk in the park and enjoy the fresh air.\",\n",
    "    \"Visit a local museum and discover something new.\",\n",
    "    \"Attend a live music concert and feel the rhythm.\",\n",
    "    \"Go for a hike and admire the natural scenery.\",\n",
    "    \"Have a picnic with friends and share some laughs.\",\n",
    "    \"Explore a new cuisine by dining at an ethnic restaurant.\",\n",
    "    \"Take a yoga class and stretch your body and mind.\",\n",
    "    \"Join a local sports league and enjoy some friendly competition.\",\n",
    "    \"Attend a workshop or lecture on a topic you're interested in.\",\n",
    "    \"Visit an amusement park and ride the roller coasters.\"\n",
    "]"
   ]
  },
  {
   "cell_type": "code",
   "execution_count": 2,
   "id": "c2799131-93e2-43f0-9009-b7e5be61c5dc",
   "metadata": {},
   "outputs": [
    {
     "data": {
      "text/plain": [
       "['Take a leisurely walk in the park and enjoy the fresh air.',\n",
       " 'Visit a local museum and discover something new.',\n",
       " 'Attend a live music concert and feel the rhythm.',\n",
       " 'Go for a hike and admire the natural scenery.',\n",
       " 'Have a picnic with friends and share some laughs.',\n",
       " 'Explore a new cuisine by dining at an ethnic restaurant.',\n",
       " 'Take a yoga class and stretch your body and mind.',\n",
       " 'Join a local sports league and enjoy some friendly competition.',\n",
       " \"Attend a workshop or lecture on a topic you're interested in.\",\n",
       " 'Visit an amusement park and ride the roller coasters.']"
      ]
     },
     "execution_count": 2,
     "metadata": {},
     "output_type": "execute_result"
    }
   ],
   "source": [
    "corpus_of_documents"
   ]
  },
  {
   "cell_type": "code",
   "execution_count": 11,
   "id": "f1577b6b-da5b-41f7-90c8-22c3d3258c1c",
   "metadata": {},
   "outputs": [],
   "source": [
    "user_query=\"i am an indian and i live in india\""
   ]
  },
  {
   "cell_type": "code",
   "execution_count": 4,
   "id": "235a21c7-13d0-4faf-8204-d73d1a026f1b",
   "metadata": {},
   "outputs": [],
   "source": [
    "document =\"india is a country for the indian and for everyone\""
   ]
  },
  {
   "cell_type": "code",
   "execution_count": 7,
   "id": "bd6008b0-366a-4e6f-86cd-469bba5c2b65",
   "metadata": {},
   "outputs": [],
   "source": [
    "from collections import Counter\n",
    "import math"
   ]
  },
  {
   "cell_type": "code",
   "execution_count": 15,
   "id": "46295fed-9531-42a7-8caa-0631a0dfcfe8",
   "metadata": {},
   "outputs": [],
   "source": [
    "query_tokens=user_query.lower().split(\" \")"
   ]
  },
  {
   "cell_type": "code",
   "execution_count": 16,
   "id": "2198dc41-1352-4c48-9604-e9f0502c937c",
   "metadata": {},
   "outputs": [
    {
     "data": {
      "text/plain": [
       "['i', 'am', 'an', 'indian', 'and', 'i', 'live', 'in', 'india']"
      ]
     },
     "execution_count": 16,
     "metadata": {},
     "output_type": "execute_result"
    }
   ],
   "source": [
    "query_tokens"
   ]
  },
  {
   "cell_type": "code",
   "execution_count": 14,
   "id": "efa6c7e0-f25c-4746-a9b4-da232b45fba3",
   "metadata": {},
   "outputs": [],
   "source": [
    "document_tokes = document.lower().split(\" \")"
   ]
  },
  {
   "cell_type": "code",
   "execution_count": 17,
   "id": "89fc3f01-9a4b-44ba-ad57-d5033af64c91",
   "metadata": {},
   "outputs": [
    {
     "data": {
      "text/plain": [
       "['india',\n",
       " 'is',\n",
       " 'a',\n",
       " 'country',\n",
       " 'for',\n",
       " 'the',\n",
       " 'indian',\n",
       " 'and',\n",
       " 'for',\n",
       " 'everyone']"
      ]
     },
     "execution_count": 17,
     "metadata": {},
     "output_type": "execute_result"
    }
   ],
   "source": [
    "document_tokes"
   ]
  },
  {
   "cell_type": "code",
   "execution_count": 19,
   "id": "79f759ae-baa6-4d1e-b837-cad1b54204e3",
   "metadata": {},
   "outputs": [],
   "source": [
    "query_Counter = Counter(query_tokens)"
   ]
  },
  {
   "cell_type": "code",
   "execution_count": 21,
   "id": "470f46b6-a841-4fd8-8504-a0513f061e8e",
   "metadata": {},
   "outputs": [
    {
     "data": {
      "text/plain": [
       "Counter({'i': 2,\n",
       "         'am': 1,\n",
       "         'an': 1,\n",
       "         'indian': 1,\n",
       "         'and': 1,\n",
       "         'live': 1,\n",
       "         'in': 1,\n",
       "         'india': 1})"
      ]
     },
     "execution_count": 21,
     "metadata": {},
     "output_type": "execute_result"
    }
   ],
   "source": [
    "query_Counter"
   ]
  },
  {
   "cell_type": "code",
   "execution_count": 20,
   "id": "b9598d95-2cfe-46b6-a897-2acc3998e736",
   "metadata": {},
   "outputs": [],
   "source": [
    "document_tokes_Counter = Counter(document_tokes)"
   ]
  },
  {
   "cell_type": "code",
   "execution_count": 22,
   "id": "6248589f-31a5-4733-adf2-022a34cd3b47",
   "metadata": {},
   "outputs": [
    {
     "data": {
      "text/plain": [
       "Counter({'for': 2,\n",
       "         'india': 1,\n",
       "         'is': 1,\n",
       "         'a': 1,\n",
       "         'country': 1,\n",
       "         'the': 1,\n",
       "         'indian': 1,\n",
       "         'and': 1,\n",
       "         'everyone': 1})"
      ]
     },
     "execution_count": 22,
     "metadata": {},
     "output_type": "execute_result"
    }
   ],
   "source": [
    "document_tokes_Counter"
   ]
  },
  {
   "cell_type": "code",
   "execution_count": 28,
   "id": "5d6ecd96-3958-473b-ad32-b37dc64eea01",
   "metadata": {},
   "outputs": [],
   "source": [
    "lst=[]\n",
    "for token in query_Counter:\n",
    "    lst.append(query_Counter[token])"
   ]
  },
  {
   "cell_type": "code",
   "execution_count": 29,
   "id": "4ae99479-3366-458d-9075-af6a5003e961",
   "metadata": {},
   "outputs": [
    {
     "data": {
      "text/plain": [
       "[2, 1, 1, 1, 1, 1, 1, 1]"
      ]
     },
     "execution_count": 29,
     "metadata": {},
     "output_type": "execute_result"
    }
   ],
   "source": [
    "#sentance vector \n",
    "lst"
   ]
  },
  {
   "cell_type": "code",
   "execution_count": 37,
   "id": "3f52d866-af38-4314-8a60-eb5aaa6dc1ce",
   "metadata": {},
   "outputs": [
    {
     "name": "stdout",
     "output_type": "stream",
     "text": [
      "indian\n",
      "india\n",
      "and\n"
     ]
    }
   ],
   "source": [
    "for tokens in query_Counter.keys() & document_tokes_Counter.keys():\n",
    "    print(tokens)"
   ]
  },
  {
   "cell_type": "code",
   "execution_count": 35,
   "id": "68954173-2bbe-4994-a66a-c0ae44c9d47d",
   "metadata": {},
   "outputs": [],
   "source": [
    "mylist=[]\n",
    "for tokens in query_Counter.keys() & document_tokes_Counter.keys():\n",
    "    mylist.append(query_Counter[tokens]*document_tokes_Counter[tokens])"
   ]
  },
  {
   "cell_type": "code",
   "execution_count": 36,
   "id": "dbb8d651-f091-48eb-9054-325a0c997d5e",
   "metadata": {},
   "outputs": [
    {
     "data": {
      "text/plain": [
       "[1, 1, 1]"
      ]
     },
     "execution_count": 36,
     "metadata": {},
     "output_type": "execute_result"
    }
   ],
   "source": [
    "mylist"
   ]
  },
  {
   "cell_type": "code",
   "execution_count": 45,
   "id": "28e396d6-d580-4634-9e53-8586b2dbed08",
   "metadata": {},
   "outputs": [],
   "source": [
    "dot_product=sum(mylist)"
   ]
  },
  {
   "cell_type": "code",
   "execution_count": 41,
   "id": "8f0549ef-5d8b-4cea-a678-5b9a7baa182c",
   "metadata": {},
   "outputs": [],
   "source": [
    "query_magnitude=math.sqrt(sum(query_Counter[token]**2 for token in query_Counter))"
   ]
  },
  {
   "cell_type": "code",
   "execution_count": 42,
   "id": "6e3183e3-d138-4da4-b7f6-4f16623170f9",
   "metadata": {},
   "outputs": [
    {
     "data": {
      "text/plain": [
       "3.3166247903554"
      ]
     },
     "execution_count": 42,
     "metadata": {},
     "output_type": "execute_result"
    }
   ],
   "source": [
    "query_magnitude"
   ]
  },
  {
   "cell_type": "code",
   "execution_count": 43,
   "id": "27d6614f-370d-4160-b205-486c69f529f8",
   "metadata": {},
   "outputs": [],
   "source": [
    "document_magnitude=math.sqrt(sum(document_tokes_Counter[token]**2 for token in document_tokes_Counter))"
   ]
  },
  {
   "cell_type": "code",
   "execution_count": 44,
   "id": "e1172b69-23e5-4c25-891b-80b215dc2993",
   "metadata": {},
   "outputs": [
    {
     "data": {
      "text/plain": [
       "3.4641016151377544"
      ]
     },
     "execution_count": 44,
     "metadata": {},
     "output_type": "execute_result"
    }
   ],
   "source": [
    "document_magnitude"
   ]
  },
  {
   "cell_type": "code",
   "execution_count": 46,
   "id": "4776c968-a6b6-4b5d-950f-aece98cc18d1",
   "metadata": {},
   "outputs": [],
   "source": [
    "similarity=(dot_product)/(query_magnitude*document_magnitude)"
   ]
  },
  {
   "cell_type": "code",
   "execution_count": 47,
   "id": "cf19134c-8bdb-401f-93f0-573063c66037",
   "metadata": {},
   "outputs": [
    {
     "data": {
      "text/plain": [
       "0.26111648393354675"
      ]
     },
     "execution_count": 47,
     "metadata": {},
     "output_type": "execute_result"
    }
   ],
   "source": [
    "similarity"
   ]
  },
  {
   "cell_type": "code",
   "execution_count": 54,
   "id": "81c2c5de-9743-4cce-a38a-b4826accbba2",
   "metadata": {},
   "outputs": [],
   "source": [
    "user_query=\"is yoga good for health\"\n",
    "document=\"yoga is very good for living healthy lifesytle.\""
   ]
  },
  {
   "cell_type": "code",
   "execution_count": 55,
   "id": "90c62e5c-6d42-4e6d-91b1-c837f460a627",
   "metadata": {},
   "outputs": [],
   "source": [
    "def cosine_similarity2(query,document):\n",
    "    #Tokenize and convert to lowercase\n",
    "    query_token = query.lower().split(\" \")\n",
    "    document_tokens=document.lower().split(\" \")\n",
    "    \n",
    "    # Create Counter for query and document\n",
    "    query_counter = Counter(query_token)\n",
    "    document_counter = Counter(document_tokens)\n",
    "    # Calculate dot product\n",
    "    dot_product = sum(query_counter[token]*document_counter[token] for token in query_counter.keys() & document_counter.keys())\n",
    "    # Calculate magntitudes\n",
    "    query_magnitude=math.sqrt(sum(query_counter[token]**2 for token in query_counter))\n",
    "    document_magnitude=math.sqrt(sum(document_counter[token]**2 for token in document_counter))\n",
    "    # Calculate cosine similarity\n",
    "    similarity=(dot_product)/(query_magnitude*document_magnitude)\n",
    "    return similarity"
   ]
  },
  {
   "cell_type": "code",
   "execution_count": 56,
   "id": "ea53cdb0-7df9-4d99-9daa-cccc17777a23",
   "metadata": {},
   "outputs": [
    {
     "data": {
      "text/plain": [
       "0.6324555320336759"
      ]
     },
     "execution_count": 56,
     "metadata": {},
     "output_type": "execute_result"
    }
   ],
   "source": [
    "cosine_similarity2(user_query,document)"
   ]
  },
  {
   "cell_type": "code",
   "execution_count": 61,
   "id": "8fab1619-3db2-4e95-9e6c-d42947ad2d66",
   "metadata": {},
   "outputs": [],
   "source": [
    "def return_response(query,corpus):\n",
    "    similarities = []\n",
    "    for doc in corpus:\n",
    "        similarity = cosine_similarity2(query,doc)\n",
    "        similarities.append(similarity)\n",
    "    return corpus_of_documents[similarities.index(max(similarities))]"
   ]
  },
  {
   "cell_type": "code",
   "execution_count": 62,
   "id": "1c93a4fb-be60-4a8e-b763-a578fa3bb16b",
   "metadata": {},
   "outputs": [],
   "source": [
    "corpus_of_documents = [\n",
    "    \"Take a leisurely walk in the park and enjoy the fresh air.\",\n",
    "    \"Visit a local museum and discover something new.\",\n",
    "    \"Attend a live music concert and feel the rhythm.\",\n",
    "    \"Go for a hike and admire the natural scenery.\",\n",
    "    \"Have a picnic with friends and share some laughs.\",\n",
    "    \"Explore a new cuisine by dining at an ethnic restaurant.\",\n",
    "    \"Take a yoga class and stretch your body and mind.\",\n",
    "    \"Join a local sports league and enjoy some friendly competition.\",\n",
    "    \"Attend a workshop or lecture on a topic you're interested in.\",\n",
    "    \"Visit an amusement park and ride the roller coasters.\"\n",
    "]"
   ]
  },
  {
   "cell_type": "code",
   "execution_count": 80,
   "id": "0e3e914a-9974-4612-acd8-2e3304231931",
   "metadata": {},
   "outputs": [],
   "source": [
    "user_input=\"i like fresh air.\""
   ]
  },
  {
   "cell_type": "code",
   "execution_count": 81,
   "id": "5511283a-a387-4b43-a9dd-69bad8524287",
   "metadata": {},
   "outputs": [],
   "source": [
    "relevant_document=return_response(query,corpus_of_documents)"
   ]
  },
  {
   "cell_type": "code",
   "execution_count": 87,
   "id": "7c7cd57b-b786-48b8-bb0e-1f53793156b7",
   "metadata": {},
   "outputs": [],
   "source": [
    "user_input=\"i like to do yoga\""
   ]
  },
  {
   "cell_type": "code",
   "execution_count": 88,
   "id": "75889042-248e-4b4b-b887-fa518c475f23",
   "metadata": {},
   "outputs": [],
   "source": [
    "relevant_document=return_response(query,corpus_of_documents)"
   ]
  },
  {
   "cell_type": "code",
   "execution_count": 70,
   "id": "db9198c3-83ae-4c0b-8d76-ba5fff3e7797",
   "metadata": {},
   "outputs": [],
   "source": [
    "# how you can configure llm in your local system \n",
    "#LLAMA2\n",
    "#hugging face(we are not going to use this one)"
   ]
  },
  {
   "cell_type": "code",
   "execution_count": 71,
   "id": "1bfdd4c9-21e2-4860-bc27-291ee20a43aa",
   "metadata": {},
   "outputs": [],
   "source": [
    "#augument this respose by using LLama3 model"
   ]
  },
  {
   "cell_type": "code",
   "execution_count": 85,
   "id": "ca6c601b-bf32-46ef-a942-634ce1b6aea1",
   "metadata": {},
   "outputs": [],
   "source": [
    "import requests\n",
    "import json\n",
    "full_response = []"
   ]
  },
  {
   "cell_type": "code",
   "execution_count": 90,
   "id": "015d94e8-6dfe-4835-b5b8-07dc1f7850dc",
   "metadata": {},
   "outputs": [
    {
     "name": "stdout",
     "output_type": "stream",
     "text": [
      "Try combining yoga with your walk!\n"
     ]
    }
   ],
   "source": [
    "full_response = []\n",
    "prompt = \"\"\"\n",
    "You are a bot that makes recommedations for activities.You answer in very short sentences and do not include extra information.\n",
    "This is the recommended activity :{relevant_document}\n",
    "The user input is: {user_input}\n",
    "Compile a recommedation to the user based on the recommended activity and the user input.\n",
    "\"\"\"\n",
    "\n",
    "url='http://localhost:11434/api/generate'\n",
    "\n",
    "data = {\n",
    "    \"model\":\"llama3\",\n",
    "    \"prompt\":prompt.format(user_input=user_input, relevant_document = relevant_document)\n",
    "}\n",
    "\n",
    "headers= {'Content-Type':'application/json'}\n",
    "response = requests.post(url,data=json.dumps(data),headers=headers,stream=True)\n",
    "try:\n",
    "    for line in response.iter_lines():\n",
    "        #filter out keep-alive new lines\n",
    "        if line:\n",
    "            decoded_line = json.loads(line.decode('utf-8'))\n",
    "            # print(decoded_line['respose']) # uncomment to results, token by token\n",
    "            full_response.append(decoded_line['response'])\n",
    "finally:\n",
    "    response.close()\n",
    "print(''.join(full_response))"
   ]
  },
  {
   "cell_type": "code",
   "execution_count": null,
   "id": "78460a2d-236e-4510-a019-dbc10a44aa24",
   "metadata": {},
   "outputs": [],
   "source": []
  }
 ],
 "metadata": {
  "kernelspec": {
   "display_name": "Python 3 (ipykernel)",
   "language": "python",
   "name": "python3"
  },
  "language_info": {
   "codemirror_mode": {
    "name": "ipython",
    "version": 3
   },
   "file_extension": ".py",
   "mimetype": "text/x-python",
   "name": "python",
   "nbconvert_exporter": "python",
   "pygments_lexer": "ipython3",
   "version": "3.11.7"
  }
 },
 "nbformat": 4,
 "nbformat_minor": 5
}
